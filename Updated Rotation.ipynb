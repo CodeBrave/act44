{
  "nbformat": 4,
  "nbformat_minor": 0,
  "metadata": {
    "colab": {
      "provenance": [],
      "authorship_tag": "ABX9TyMdEHenva7i+SRa9mmO+Uxt",
      "include_colab_link": true
    },
    "kernelspec": {
      "name": "python3",
      "display_name": "Python 3"
    },
    "language_info": {
      "name": "python"
    }
  },
  "cells": [
    {
      "cell_type": "markdown",
      "metadata": {
        "id": "view-in-github",
        "colab_type": "text"
      },
      "source": [
        "<a href=\"https://colab.research.google.com/github/CodeBrave/act44/blob/main/Updated%20Rotation.ipynb\" target=\"_parent\"><img src=\"https://colab.research.google.com/assets/colab-badge.svg\" alt=\"Open In Colab\"/></a>"
      ]
    },
    {
      "cell_type": "code",
      "execution_count": 1,
      "metadata": {
        "colab": {
          "base_uri": "https://localhost:8080/"
        },
        "id": "n7ASHT7nTVff",
        "outputId": "531852ff-79fd-47ad-c9b5-22f7d4a59bb8"
      },
      "outputs": [
        {
          "output_type": "stream",
          "name": "stdout",
          "text": [
            "Cloning into 'act44'...\n",
            "remote: Enumerating objects: 10, done.\u001b[K\n",
            "remote: Counting objects: 100% (10/10), done.\u001b[K\n",
            "remote: Compressing objects: 100% (8/8), done.\u001b[K\n",
            "remote: Total 10 (delta 1), reused 0 (delta 0), pack-reused 0\u001b[K\n",
            "Receiving objects: 100% (10/10), 895.03 KiB | 4.71 MiB/s, done.\n",
            "Resolving deltas: 100% (1/1), done.\n"
          ]
        }
      ],
      "source": [
        "# example of a repositor:\n",
        "#use your own repositor\n",
        "!git clone https://github.com/CodeBrave/act44.git"
      ]
    },
    {
      "cell_type": "code",
      "source": [
        "# Import necessary libraries\n",
        "import cv2\n",
        "import matplotlib.pyplot as plt\n",
        "import numpy as np\n",
        "from google.colab import drive\n",
        "\n",
        "# Clone the GitHub repository (replace with your repository URL)\n",
        "!git clone https://github.com/yourusername/yourrepository.git\n",
        "\n",
        "# Load the image\n",
        "image_path = 'flowers.jpg'\n",
        "image = cv2.imread(image_path)\n",
        "\n",
        "# Display the original image\n",
        "plt.imshow(cv2.cvtColor(image, cv2.COLOR_BGR2RGB))\n",
        "plt.title('Original Image')\n",
        "plt.show()\n",
        "\n",
        "# Rotate the image\n",
        "(h, w) = image.shape[:2]\n",
        "center = (w // 2, h // 2)\n",
        "angle = 45  # Rotate the image by 45 degrees\n",
        "scale = 1.0\n",
        "\n",
        "# Display the rotated image\n",
        "plt.imshow(cv2.cvtColor(rotated_image, cv2.COLOR_BGR2RGB))\n",
        "plt.title('Rotated Image')\n",
        "plt.show()\n",
        "\n",
        "# Save the rotated image\n",
        "rotated_image_path = 'rotated_flowers.jpg'\n",
        "cv2.imwrite(rotated_image_path, rotated_image)\n",
        "\n",
        "#  rotation\n",
        "\n",
        "# Git configuration\n",
        "!git config --global user.email \"youremail@example.com\"\n",
        "!git config --global user.name \"Your Name\"\n",
        "\n",
        "# Add the changes to staging\n",
        "!git add rotated_flowers.jpg\n",
        "\n",
        "# Commit the changes\n",
        "!git commit -m \"Added rotated image\"\n",
        "\n",
        "# Push the changes to the GitHub repository\n",
        "!git push origin main"
      ],
      "metadata": {
        "id": "bqeg85TcTadR"
      },
      "execution_count": null,
      "outputs": []
    }
  ]
}