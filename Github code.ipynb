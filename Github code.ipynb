{
  "nbformat": 4,
  "nbformat_minor": 0,
  "metadata": {
    "colab": {
      "provenance": []
    },
    "kernelspec": {
      "name": "python3",
      "display_name": "Python 3"
    },
    "language_info": {
      "name": "python"
    }
  },
  "cells": [
    {
      "cell_type": "code",
      "execution_count": null,
      "metadata": {
        "id": "iIQuXbYbIRE6"
      },
      "outputs": [],
      "source": [
        "# Import necessary libraries\n",
        "import cv2\n",
        "import matplotlib.pyplot as plt\n",
        "import numpy as np\n",
        "from google.colab import drive\n",
        "\n",
        "# Clone the GitHub repository (replace with your repository URL)\n",
        "!git clone https://github.com/yourusername/yourrepository.git\n",
        "\n",
        "# Load the image\n",
        "image_path = 'flowers.jpg'\n",
        "image = cv2.imread(image_path)\n",
        "\n",
        "# Display the original image\n",
        "plt.imshow(cv2.cvtColor(image, cv2.COLOR_BGR2RGB))\n",
        "plt.title('Original Image')\n",
        "plt.show()\n",
        "\n",
        "# Rotate the image\n",
        "(h, w) = image.shape[:2]\n",
        "center = (w // 2, h // 2)\n",
        "angle = 45  # Rotate the image by 45 degrees\n",
        "scale = 1.0\n",
        "\n",
        "# Display the rotated image\n",
        "plt.imshow(cv2.cvtColor(rotated_image, cv2.COLOR_BGR2RGB))\n",
        "plt.title('Rotated Image')\n",
        "plt.show()\n",
        "\n",
        "# Save the rotated image\n",
        "rotated_image_path = 'rotated_flowers.jpg'\n",
        "cv2.imwrite(rotated_image_path, rotated_image)\n",
        "\n",
        "# Git configuration\n",
        "!git config --global user.email \"youremail@example.com\"\n",
        "!git config --global user.name \"Your Name\"\n",
        "\n",
        "# Add the changes to staging\n",
        "!git add rotated_flowers.jpg\n",
        "\n",
        "# Commit the changes\n",
        "!git commit -m \"Added rotated image\"\n",
        "\n",
        "# Push the changes to the GitHub repository\n",
        "!git push origin main"
      ]
    }
  ]
}