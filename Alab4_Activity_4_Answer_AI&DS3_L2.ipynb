{
  "nbformat": 4,
  "nbformat_minor": 0,
  "metadata": {
    "colab": {
      "provenance": [],
      "include_colab_link": true
    },
    "kernelspec": {
      "name": "python3",
      "display_name": "Python 3"
    },
    "language_info": {
      "name": "python"
    }
  },
  "cells": [
    {
      "cell_type": "markdown",
      "metadata": {
        "id": "view-in-github",
        "colab_type": "text"
      },
      "source": [
        "<a href=\"https://colab.research.google.com/github/CodeBrave/act44/blob/main/Alab4_Activity_4_Answer_AI%26DS3_L2.ipynb\" target=\"_parent\"><img src=\"https://colab.research.google.com/assets/colab-badge.svg\" alt=\"Open In Colab\"/></a>"
      ]
    },
    {
      "cell_type": "code",
      "execution_count": 5,
      "metadata": {
        "id": "fpUMpCvZqZcK",
        "colab": {
          "base_uri": "https://localhost:8080/"
        },
        "outputId": "b5776fe3-ef93-4a2f-887d-f3d6236a8574"
      },
      "outputs": [
        {
          "output_type": "stream",
          "name": "stdout",
          "text": [
            "fatal: destination path 'act44' already exists and is not an empty directory.\n"
          ]
        }
      ],
      "source": [
        "# example of a repositor:\n",
        "#use your own repositor\n",
        "!git clone https://github.com/CodeBrave/act44.git"
      ]
    },
    {
      "cell_type": "code",
      "source": [
        "# !git clone https://github.com/Students-02/Repository1\n",
        "import cv2\n",
        "\n",
        "import matplotlib.pyplot as plt\n",
        "\n",
        "image = cv2.imread('/content/act44/flowers.jpg')\n",
        "\n",
        "# Rotate the image by 90 degrees clockwise\n",
        "\n",
        "rotated_image = cv2.rotate(image, cv2.ROTATE_90_CLOCKWISE)\n",
        "\n",
        "# Display the rotated image\n",
        "\n",
        "plt.imshow(cv2.cvtColor(rotated_image, cv2.COLOR_BGR2RGB))\n",
        "\n",
        "plt.title('Rotated Image')\n",
        "\n",
        "plt.axis('off')\n",
        "\n",
        "plt.show()\n",
        "\n",
        "cv2.imwrite('Rotated_image.jpg', rotated_image)"
      ],
      "metadata": {
        "id": "HD4j6f8srr0_"
      },
      "execution_count": null,
      "outputs": []
    }
  ]
}